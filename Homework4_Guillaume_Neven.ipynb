{
 "cells": [
  {
   "cell_type": "code",
   "execution_count": 36,
   "metadata": {},
   "outputs": [],
   "source": [
    "\n",
    "import os\n",
    "import numpy as np\n",
    "from os import path\n",
    "import pandas as pd\n",
    "import random\n",
    "import h5py    \n",
    "\n",
    "os.chdir('/gneven/ETH/Sem2/Predictive_maintenance/Assignment/Assignment4/')\n"
   ]
  },
  {
   "cell_type": "code",
   "execution_count": 25,
   "metadata": {},
   "outputs": [],
   "source": [
    "def sliding_window(data, N_tw = 30, stride = 1, f=1.0):\n",
    "   \n",
    "    # Set seed\n",
    "    np.random.seed(229)\n",
    "    random.seed(229)\n",
    "    \n",
    "    N_en = np.unique(data[:,0]).shape[0]                            # Number of engines (N_en)\n",
    "    id_en = np.sort(random.sample([i+1 for i in range(N_en)], int(f*N_en)))\n",
    "    mL = 0\n",
    "    mU = 0\n",
    "    for i in range(N_en):\n",
    "        n_H   = data[data[:,0] == i+1,0].shape[0]\n",
    "        N_sw  = int((n_H- N_tw) / stride + 1)                       # Number of sliding windows for engine 'i' \n",
    "        for h in range(N_sw):\n",
    "            if i+1 in id_en:\n",
    "                mL = mL + 1\n",
    "            else:\n",
    "                mU = mU + 1\n",
    "                \n",
    "    return mL, mU, N_en, id_en \n",
    "\n",
    "\n",
    "def load_dataset(N_tw, stride, sel, R_early, f=1.0):\n",
    "    # Load training data\n",
    "    basepath        = os.getcwd()\n",
    "    train_set       = np.loadtxt(basepath + \"/data/train_FD001.txt\")# Training set\n",
    "    train_set_x_org = train_set[:,sel]                              # Training set input space (x)    \n",
    "    train_set_c     = train_set[:,np.array([1])]                    # Training set cycles (c)\n",
    "    \n",
    "    d_tr = pd.DataFrame(data = train_set_x_org)\n",
    "    \n",
    "    # Normalize the data\n",
    "    ub = train_set_x_org.max(0)\n",
    "    lb = train_set_x_org.min(0)    \n",
    "    train_set_x = 2 * (train_set_x_org - lb) / (ub - lb) - 1   \n",
    "   \n",
    "    N_ft    = sel.shape[0]                                           # Nunber of features (N_ft)\n",
    "    mL, mU, N_en, id_en = sliding_window(train_set, N_tw, stride, f)    # Number of training data & engines\n",
    "    \n",
    "    train_x = np.empty((mL, N_tw, N_ft), float)\n",
    "    train_y = np.empty((mL), float)\n",
    "    train_xU = np.empty((mU, N_tw, N_ft), float)\n",
    "    train_yU = np.empty((mU), float)\n",
    "    \n",
    "    k = 0 \n",
    "    l = 0\n",
    "    for i in range(N_en):\n",
    "        idx       = train_set[:,0] == i+1                            # Index for engine number 'i'\n",
    "        if i+1 in id_en:\n",
    "            train_i_x = train_set_x[idx,:]                               # Engine 'i' training  data\n",
    "            train_i_c = train_set_c[idx]                                 # Engine 'i' cycles (c)\n",
    "            train_i_y = train_i_c[-1] - train_i_c                        # RUL: Remaining Useful Lifetime for engine 'i'\n",
    "            train_i_y[train_i_y > R_early] = R_early                     # R_early = 125\n",
    "            N_sw      = int((train_i_x.shape[0] - N_tw) / stride + 1)    # Number of sliding windows for engine 'i' \n",
    "            for h in range(N_sw):\n",
    "                k = k + 1\n",
    "                vert_start = h * stride\n",
    "                vert_end   = h * stride + N_tw\n",
    "                train_i_x_slice = train_i_x[vert_start:vert_end,:]       # Training input data for engine 'i' on time window 'h'\n",
    "                train_i_y_slice = train_i_y[vert_end-1,:]                # Training output data for engine 'i' on time window 'h'\n",
    "                train_i_x_slice.shape = (N_tw, N_ft)                     # Reshape training set input (N_tw, N_ft, 1)\n",
    "                train_i_y_slice.shape = (1)                              # Reshape training set output (1, 1)\n",
    "                train_x[k-1,:] = train_i_x_slice\n",
    "                train_y[k-1] = train_i_y_slice\n",
    "        else:\n",
    "            train_i_xU = train_set_x[idx,:]                               # Engine 'i' training  data\n",
    "            train_i_cU = train_set_c[idx]                                 # Engine 'i' cycles (c)\n",
    "            train_i_yU = train_i_cU[-1] - train_i_cU                        # RUL: Remaining Useful Lifetime for engine 'i'\n",
    "            train_i_yU[train_i_yU > R_early] = R_early                     # R_early = 125\n",
    "            N_sw      = int((train_i_xU.shape[0] - N_tw) / stride + 1)    # Number of sliding windows for engine 'i' \n",
    "            for h in range(N_sw):\n",
    "                l = l + 1\n",
    "                vert_start = h * stride\n",
    "                vert_end   = h * stride + N_tw\n",
    "                train_i_xU_slice = train_i_xU[vert_start:vert_end,:]       # Training input data for engine 'i' on time window 'h'\n",
    "                train_i_yU_slice = train_i_yU[vert_end-1,:]                # Training output data for engine 'i' on time window 'h'\n",
    "                train_i_xU_slice.shape = (N_tw, N_ft)                     # Reshape training set input (N_tw, N_ft, 1)\n",
    "                train_i_yU_slice.shape = (1)                              # Reshape training set output (1, 1)\n",
    "                train_xU[l-1,:] = train_i_xU_slice\n",
    "                train_yU[l-1] = train_i_yU_slice\n",
    "     \n",
    "    # Load test data\n",
    "    test_set       = np.loadtxt(basepath + \"/data/test_FD001.txt\")\n",
    "    test_set_x_org = test_set[:,sel]                                 # Test set input space (x)\n",
    "    test_y         = np.loadtxt(basepath + \"/data/RUL_FD001.txt\")    # Test set RUL (c)\n",
    "    test_y.shape   = (test_y.shape[0], 1)\n",
    "    test_y[test_y > R_early] = R_early                               # R_early = 125\n",
    "    \n",
    "    d_ts = pd.DataFrame(data = test_set_x_org)\n",
    "    \n",
    "    # Normalize the data\n",
    "    test_set_x = 2 * (test_set_x_org - lb) / (ub - lb) - 1   \n",
    "    \n",
    "    m_ts, _ , N_en_ts ,_ = sliding_window(test_set, N_tw, stride, f=1.0)           # Number of training data & engines\n",
    "    \n",
    "    test_x = np.empty((N_en_ts, N_tw, N_ft), float)\n",
    "    \n",
    "    k = 0\n",
    "    for ii in range(N_en_ts):\n",
    "        engine         = test_set[:,0] == ii+1                       # Index for engine number 'i'\n",
    "        test_i_x       = test_set_x[engine,:]                        # Engine 'i' test  data\n",
    "        test_i_x_slice = test_i_x[-N_tw:]                            # Training input data for engine 'i' on time window 'h'\n",
    "        test_i_x_slice.shape = (N_tw, N_ft)                          # Reshape training set input (N_tw, N_ft, 1)\n",
    "        test_x[ii,:] = test_i_x_slice\n",
    "    \n",
    "    return train_x, train_y, train_xU, train_yU, test_x, test_y, d_tr, d_ts\n",
    "\n",
    "def score_cal(y_hat, Y_test):\n",
    "    d   = y_hat - Y_test\n",
    "    tmp = np.zeros(d.shape[0])\n",
    "    for i in range(d.shape[0]):\n",
    "        if d[i,0] >= 0:\n",
    "            tmp[i] = np.exp( d[i,0]/10) - 1\n",
    "        else:\n",
    "            tmp[i] = np.exp(-d[i,0]/13) - 1\n",
    "    return tmp "
   ]
  },
  {
   "cell_type": "code",
   "execution_count": 27,
   "metadata": {},
   "outputs": [
    {
     "name": "stdout",
     "output_type": "stream",
     "text": [
      "number of labeled training examples = 17731\n",
      "number of unlabeled training examples = 0\n",
      "number of test examples = 100\n"
     ]
    }
   ],
   "source": [
    "# In[2]: Set-up sumulation\n",
    "N_tw     = 30     # Time Window (N_tw)\n",
    "R_early  = 125    # Max RUL in training set\n",
    "stride   = 1      # Stride for slide window\n",
    "sel      = np.array([6, 7, 8, 11, 12, 13, 15, 16, 17, 18, 19, 21, 24, 25])  # Index of input features\n",
    "\n",
    "X_train, Y_train, X_trainU, Y_trainU, X_test, Y_test, _, _ = load_dataset(N_tw, stride, sel, R_early)\n",
    "print (\"number of labeled training examples = \" + str(X_train.shape[0]))\n",
    "print (\"number of unlabeled training examples = \" + str(X_trainU.shape[0]))\n",
    "print (\"number of test examples = \" + str(X_test.shape[0]))\n"
   ]
  },
  {
   "cell_type": "code",
   "execution_count": 39,
   "metadata": {},
   "outputs": [],
   "source": [
    "\n",
    "with h5py.File(os.getcwd()+'/data/CMAPSS_Dataset_DS02_Assigment.h5', \"r\") as f:    \n",
    "    a_group_key = list(f.keys())[0]\n",
    "    data = list(f[a_group_key])\n"
   ]
  },
  {
   "cell_type": "code",
   "execution_count": 42,
   "metadata": {},
   "outputs": [
    {
     "data": {
      "text/plain": [
       "42240"
      ]
     },
     "execution_count": 42,
     "metadata": {},
     "output_type": "execute_result"
    }
   ],
   "source": [
    "len(data)"
   ]
  }
 ],
 "metadata": {
  "kernelspec": {
   "display_name": "Python 3",
   "language": "python",
   "name": "python3"
  },
  "language_info": {
   "codemirror_mode": {
    "name": "ipython",
    "version": 3
   },
   "file_extension": ".py",
   "mimetype": "text/x-python",
   "name": "python",
   "nbconvert_exporter": "python",
   "pygments_lexer": "ipython3",
   "version": "3.7.4"
  }
 },
 "nbformat": 4,
 "nbformat_minor": 2
}
